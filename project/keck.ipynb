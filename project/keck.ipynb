{
 "cells": [
  {
   "cell_type": "markdown",
   "metadata": {},
   "source": [
    "# AS5001 (SUPA-AAA) Advanced (Astronomical) Data Analysis\n",
    "\n",
    "## Project 2: Deadline 5 pm Wed 23 Nov 2022"
   ]
  },
  {
   "cell_type": "markdown",
   "metadata": {},
   "source": [
    "## Hunting a Black Hole in GS2000\n",
    "\n",
    "In the close binary system GS2000, a late-type main-sequence star\n",
    "orbits around a compact object surrounded by an accretion disk.\n",
    "GS2000 is a \"soft X-ray transient\" discovered during an outburst\n",
    "of the disk when it became a bright X-ray source due to temporarily\n",
    "increased rate of accretion onto the compact object.\n",
    "The compact object is suspected to be a black hole,\n",
    "but it could also be a neutron star.  Theory suggests that\n",
    "the maximum mass possible for a neutron star is about 3 solar masses.\n",
    "\n",
    "The goal of this project is to use data analysis techniques learned\n",
    "in the lectures to estimate the mass of the compact object\n",
    "in GS2000, and hence to determine if it is likely to be a black hole.\n",
    "To measure the compact object mass, the strategy is to measure\n",
    "the period and orbital velocity of the companion star,\n",
    "and then apply Kepler's law.\n",
    "\n",
    "The 10-m Keck telescope on Mauna Kea in Hawaii has been used to\n",
    "obtain 13 spectra of GS2000 at 13 different binary phases.\n",
    "The spectra include light both from the companion star and from\n",
    "the accretion disk.  They were taken a few years after the outburst,\n",
    "when accretion disk had faded considerably, so that the companion star\n",
    "makes a substantial contribution to the spectrum.\n",
    "\n",
    "Because GS2000 is quite faint, spectra are rather noisy\n",
    "even with the CCD spectrograph on the 10m Keck telescope.\n",
    "The H$\\alpha$ emission line from the quiescent accretion disk is readily\n",
    "visible, with a characteristic double-peaked velocity profile.\n",
    "But it is not easy to spot absorption lines from the companion star\n",
    "in the individual spectra.\n",
    "For this reason a cross-correlation analysis is needed to detect\n",
    "the radial velocity of the companion star at each of the 13 phases.\n",
    "A number of bright main sequence stars were observed to provide\n",
    "\"template\" spectra, in which the locations of absorption lines\n",
    "are easily visible.\n",
    "\n",
    "The techniques required have been developed in the lectures and homework sets.\n",
    "Steps of the cross-correlation radial velocity analysis may be as follows:\n"
   ]
  },
  {
   "cell_type": "markdown",
   "metadata": {},
   "source": [
    "1: Plot on a single page the template star spectra, arranged by spectral\n",
    "type, and normalised to a common continuum level, to show how absorption line\n",
    "ratios change with spectral type. [5]"
   ]
  },
  {
   "cell_type": "code",
   "execution_count": null,
   "metadata": {},
   "outputs": [],
   "source": []
  },
  {
   "cell_type": "markdown",
   "metadata": {},
   "source": [
    "2: Plot on a single page, ordered by binary phase, the 13 spectra of GS2000,\n",
    "to show the shape of the continuum and the changing profile of the H-alpha\n",
    "emission line. [5]"
   ]
  },
  {
   "cell_type": "code",
   "execution_count": null,
   "metadata": {},
   "outputs": [],
   "source": []
  },
  {
   "cell_type": "markdown",
   "metadata": {},
   "source": [
    "3: Plot the average of the 13 spectra of GS2000.\n",
    "Are any of the expected absorption lines detected?\n",
    "What range of spectral types provides a good match? [5]"
   ]
  },
  {
   "cell_type": "code",
   "execution_count": null,
   "metadata": {},
   "outputs": [],
   "source": []
  },
  {
   "cell_type": "markdown",
   "metadata": {},
   "source": [
    "4: Fit a smooth function to the continuum of each of the spectra.\n",
    "Plot the average GS2000 spectrum divided by the fitted continuum,\n",
    "and do the same for the most suitable template spectrum. [10]"
   ]
  },
  {
   "cell_type": "code",
   "execution_count": null,
   "metadata": {},
   "outputs": [],
   "source": []
  },
  {
   "cell_type": "markdown",
   "metadata": {},
   "source": [
    "5: For each of the 13 spectra, measure the radial velocity by\n",
    "performing a cross-correlation analysis with the most suitable\n",
    "template spectrum. [25]\n",
    "\n",
    "To accomplish this:\n",
    "    \n",
    "(a) Subtract the continuum from the GS2000 spectrum,\n",
    "and from the template spectra.\n",
    "    \n",
    "(b) Apply a velocity shift to the continuum-subtracted\n",
    "template spectrum.\n",
    "\n",
    "(c) Scale the shifted and continuum-subtracted template\n",
    "spectrum to fit the continuum-subtracted GS2000 spectrum.\n",
    "    \n",
    "(d) Repeat the above for a number of different velocities,\n",
    "and plot the $\\chi^2$ of the fit as a function of \n",
    "the velocity shift.\n",
    "        \n",
    "(e) Use the $\\chi^2$ minimum to estimate the radial velocity\n",
    "and its 1-sigma uncertainty.\n",
    "    "
   ]
  },
  {
   "cell_type": "code",
   "execution_count": null,
   "metadata": {},
   "outputs": [],
   "source": []
  },
  {
   "cell_type": "markdown",
   "metadata": {},
   "source": [
    "6: Plot the measured velocities and 1-sigma uncertainties\n",
    "as a function of binary phase. Put these results also \n",
    "in a table in your report. [5]"
   ]
  },
  {
   "cell_type": "code",
   "execution_count": null,
   "metadata": {},
   "outputs": [],
   "source": []
  },
  {
   "cell_type": "markdown",
   "metadata": {},
   "source": [
    "7: Fit a sinusoidal velocity curve of the form\n",
    "$$\n",
    "V(\\phi) = \\gamma + K_x  \\sin{( 2\\,\\pi\\,\\phi)} + K_y \n",
    "\\cos{(2\\,\\pi\\,\\phi)}\n",
    "$$\n",
    "to the 13 velocity measurements. Show the best fit velocity curve\n",
    "on your plot with the data points and error bars. [5]"
   ]
  },
  {
   "cell_type": "code",
   "execution_count": null,
   "metadata": {},
   "outputs": [],
   "source": []
  },
  {
   "cell_type": "markdown",
   "metadata": {},
   "source": [
    "8: From your results, estimate the radial velocity semi-amplitude,\n",
    "$$\tK = \\left( {K_x}^2 + {K_y}^2 \\right)^{1/2}\n",
    "$$\n",
    "\tand its 1-$\\sigma$ uncertainty.\n",
    "\tThis is the orbit velocity of the companion star,\n",
    "\tprojected by a factor $\\sin{\\left(i\\right)}$ due to the inclination of \n",
    "the orbit. Describe your algorithm clearly and without unambiguity. [10]"
   ]
  },
  {
   "cell_type": "code",
   "execution_count": null,
   "metadata": {},
   "outputs": [],
   "source": []
  },
  {
   "cell_type": "markdown",
   "metadata": {},
   "source": [
    "9: Give two expressions for the compact object mass function $f(M_x)$,\n",
    "the first in terms of the observable quantities $P$ and $K$,\n",
    "and the second in terms of the compact object mass $M_x$,\n",
    "the inclination $i$, and the mass ratio $q=M_c/M_x$, where $M_c$ is\n",
    "the companion star mass.\n",
    "From the binary period $P$ and your measured $K$ velocity,\n",
    "estimate $f(M_x)$ in solar units.\n",
    "Give also the 1-sigma uncertainty. [5]"
   ]
  },
  {
   "cell_type": "code",
   "execution_count": null,
   "metadata": {},
   "outputs": [],
   "source": []
  },
  {
   "cell_type": "markdown",
   "metadata": {},
   "source": [
    "10: Adopt a specific inclination $i=90^\\circ$,\n",
    "and a specific $M_c=0.5~M_\\odot$.\n",
    "For these choices, calculate the compact\n",
    "object mass $M_x$. Give the 1-$\\sigma$ uncertainty, assuming that \n",
    "$i$ and $M_c$ are known exactly.\n",
    "Be clear about your algorithm for estimating the uncertainties,\n",
    "and collect your results in a table in your report. [5]"
   ]
  },
  {
   "cell_type": "code",
   "execution_count": null,
   "metadata": {},
   "outputs": [],
   "source": []
  },
  {
   "cell_type": "markdown",
   "metadata": {},
   "source": [
    "11: In fact $i$ and $M_c$ are not known, but have some limited range.\n",
    "What range of $i$ and $M_c$ would be appropriate, given what\n",
    "you know about the spectral type of the donor star, and\n",
    "considering that no eclipses occur?\n",
    "Use Monte-Carlo error propogation to sample the range of uncertainty\n",
    "in $i$, $M_c$, $K$, and $P$.  Be careful to assume a distribution \n",
    "for $i$ that corresponds to a random orbit orientation.\n",
    "For each Monte-Carlo trial, calculate\n",
    "the corresponding $M_x$.  Make plots showing the resulting\n",
    "probability distribution for $M_x$, both as a probability density\n",
    "histogram, and as a cumulative probability function.\n",
    "Draw vertical lines on the plots to indicate\n",
    "the mean and median of the $M_x$ distribution,\n",
    "and a 1-sigma confidence interval for $M_x$.\n",
    "As always, be clear in describing your algorithms.\n",
    "Collect your results in a table in your report. [15]"
   ]
  },
  {
   "cell_type": "code",
   "execution_count": null,
   "metadata": {},
   "outputs": [],
   "source": []
  },
  {
   "cell_type": "markdown",
   "metadata": {},
   "source": [
    "12: Give the probability that the compact object mass is higher\n",
    "than 3 solar masses, and hence the probability that it\n",
    "is a black hole rather than a neutron star. [5]"
   ]
  },
  {
   "cell_type": "code",
   "execution_count": null,
   "metadata": {},
   "outputs": [],
   "source": []
  }
 ],
 "metadata": {
  "anaconda-cloud": {},
  "kernelspec": {
   "display_name": "Python 3",
   "language": "python",
   "name": "python3"
  },
  "language_info": {
   "codemirror_mode": {
    "name": "ipython",
    "version": 3
   },
   "file_extension": ".py",
   "mimetype": "text/x-python",
   "name": "python",
   "nbconvert_exporter": "python",
   "pygments_lexer": "ipython3",
   "version": "3.8.8"
  }
 },
 "nbformat": 4,
 "nbformat_minor": 1
}