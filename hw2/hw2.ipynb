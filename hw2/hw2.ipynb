{
 "cells": [
  {
   "cell_type": "markdown",
   "metadata": {},
   "source": [
    "# AS5001 (SUPA-AAA) Advanced (Astronomical) Data Analysis : Homework Set 2 (due Mon 24 Oct 2022)                                               \n"
   ]
  },
  {
   "cell_type": "code",
   "execution_count": 1,
   "metadata": {},
   "outputs": [],
   "source": [
    "# Enable inline plotting in notebook\n",
    "%matplotlib inline\n",
    "# Populate namespace with numerical python function library and matplotlib plotting library.\n",
    "import numpy as np\n",
    "import matplotlib.pyplot as plt"
   ]
  },
  {
   "cell_type": "markdown",
   "metadata": {},
   "source": [
    "### Problem 2.1 Poisson Random Variables [20]\n",
    "\n",
    "Assume $X_i$ for $i=1,2,...N$ are independent Poisson random variables \n",
    "with mean value $\\left< X \\right> = R$.  These might be time-binned counts\n",
    "from a light curve, or wavelength-binned counts from the continuum\n",
    "of a spectrum, with $R$ being the mean count rate.\n",
    "\n",
    "(a) Give an expression for and make a plot of the probability\n",
    "that $X_3 = 1$ as a function of the count rate $R$.\n",
    "Evaluate $P(\\,X_3 > 0\\, |\\, R = 0.5\\, )$. [10]\n",
    "\n",
    "\n",
    "\n",
    "(b) Derive an expression for the maximum likelihood \n",
    "estimator for $R$, \n",
    "denoted $R_{\\rm ML}$, in terms of the $X_i$.\n",
    "Similarly, evaluate the expected value and the variance of \n",
    "$R_{\\rm ML}$. \n",
    "State whether or not $R_{\\rm ML}$ is an unbiased estimator\n",
    "for $R$, and whether or not it is a minimum variance\n",
    "statistic, and briefly justify your conclusions. [10] \n"
   ]
  },
  {
   "cell_type": "code",
   "execution_count": 17,
   "metadata": {},
   "outputs": [
    {
     "data": {
      "image/png": "[encoded data removed]",
      "text/plain": [
       "<Figure size 432x288 with 1 Axes>"
      ]
     },
     "metadata": {
      "needs_background": "light"
     },
     "output_type": "display_data"
    }
   ],
   "source": [
    "# (a)\n",
    "R = np.linspace(0, 5, 100)\n",
    "P = R*np.exp(-R)\n",
    "plt.plot(R, P)\n",
    "plt.xlabel(\"R\")\n",
    "plt.ylabel(\"P(X=1|R)\")\n",
    "plt.show()"
   ]
  },
  {
   "cell_type": "code",
   "execution_count": 16,
   "metadata": {},
   "outputs": [
    {
     "data": {
      "text/plain": [
       "[<matplotlib.lines.Line2D at 0x11d95fd60>]"
      ]
     },
     "execution_count": 16,
     "metadata": {},
     "output_type": "execute_result"
    },
    {
     "data": {
      "image/png": "[encoded data removed]",
      "text/plain": [
       "<Figure size 432x288 with 1 Axes>"
      ]
     },
     "metadata": {
      "needs_background": "light"
     },
     "output_type": "display_data"
    }
   ],
   "source": [
    "x = np.arange(0, 10, 1)\n",
    "mu = 0.5\n",
    "poisson = [mu**n * np.exp(-mu) / np.math.factorial(n) for n in x]\n",
    "plt.plot(x, poisson)"
   ]
  },
  {
   "cell_type": "markdown",
   "metadata": {},
   "source": [
    "(b) woe p48\n",
    "R_ml is unbiased estimator"
   ]
  },
  {
   "cell_type": "markdown",
   "metadata": {
    "collapsed": true
   },
   "source": [
    "### Problem 2.2 Continuum and Emission Line [35]\n",
    "\n",
    "Given $N=3$ fluxes measured from a spectrum as follows :\n",
    "\n",
    "$\\left(F_1,F_2,F_3\\right)=\\left( 110\\pm10, 160\\pm20, 90\\pm10\\right)$\n",
    "at\n",
    "$\\left(\\lambda_1,\\lambda_2,\\lambda_3\\right)=\\left(80,105,120\\right)$ , \n",
    "\n",
    "fit the function (continuum plus emission line)\n",
    "$$\n",
    "F(\\lambda) = C + A\\, G(\\lambda), \\hspace{2cm}\n",
    "G(\\lambda) = \n",
    "\\frac{1}{\\sqrt{2\\pi}\\Delta} \\exp{ \\left\\{ -\\frac{1}{2}\n",
    "\\left(\\frac{\\lambda-\\lambda_0}{\\Delta}\\right)^2 \\right\\} } ,\n",
    "$$\n",
    "where $\\lambda_0 = 100$ and $\\Delta=5$ (wavelength of spectral\n",
    "line, resolution of spectrograph) are known (calibrated nuisance parameters),\n",
    "and the parameters of interest in the fit are\n",
    "$C$ (continuum flux density) and $A$ (integrated emission-line flux) .\n",
    "\n",
    "(a) Derive general expressions for the maximum likelihood estimators $C_{\\rm\n",
    "ML}$ and $A_{\\rm ML}$, and for their variances, in terms of the data $F_i$, \n",
    "error bars $\\sigma_i$ and pattern $G_i\\equiv G(\\lambda_i)$. Evaluate these \n",
    "for the specific dataset above to\n",
    "determine the best-fit parameters and their 1-parameter 1-$\\sigma$ \n",
    "confidence limits.  Plot\n",
    "the data points, error bars, and best-fit model as functions of $\\lambda$. \n",
    "Offset each parameter by its uncertainty, $\\pm\\sigma$, and plot the 4 corresponding models\n",
    "(on the same plot) for comparison with the data. [10]\n",
    "\n",
    "(b) Make a second plot showing $\\chi^2$ contours in the $C$ vs $A$ plane\n",
    "corresponding to the 2-parameter\n",
    "1-$\\sigma$, 2-$\\sigma$, and 3-$\\sigma$ confidence regions\n",
    "(e.g. using PGCONT). Show also the $\\Delta\\chi^2=1$ contour.\n",
    "Conclude from the shape of the contours whether $C$ and $A$ are \n",
    "independent, or positively or negatively correlated.\n",
    "Draw lines on the plot identifying the\n",
    "1-parameter 1-$\\sigma$ confidence intervals (e.g. using PGMOVE and PGDRAW),\n",
    "and comment on their relation to the $\\Delta\\chi^2=1$ contour. [10]\n",
    "\n",
    "(c) Give a general expression for the Hessian matrix for this fit, \n",
    "and for its inverse.  Evaluate the inverse of the Hessian matrix to \n",
    "obtain the parameter variances and covariances.\n",
    "Evaluate the correlation coefficient between $C_{\\rm ML}$ and $A_{\\rm ML}$.\n",
    "Does this result confirm your conclusion from (b)?  [10]\n",
    "\n",
    "(d) Construct an orthogonal basis for this fit, and\n",
    "plot the two basis functions versus $\\lambda$.\n",
    "Plot $\\chi^2$ contours using the orthogonal basis, and compare with your\n",
    "results in (b). [5]\n",
    "\n"
   ]
  },
  {
   "cell_type": "markdown",
   "metadata": {},
   "source": [
    "#### Ans\n",
    "(a) ada09 P.13"
   ]
  },
  {
   "cell_type": "code",
   "execution_count": null,
   "metadata": {},
   "outputs": [],
   "source": []
  },
  {
   "cell_type": "markdown",
   "metadata": {},
   "source": [
    "### Problem 2.3 Mass of Black Hole in V404 Cygni [45]\n",
    "\n",
    "The X-ray nova V404~Cyg is a binary system suspected to harbour a black hole.\n",
    "The K0~IV companion star and black hole candidate orbit about their\n",
    "common centre of mass with a period $P = 6.4714\\pm0.0001$ days.\n",
    "Radial velocity measurements of the companion star's absorption lines\n",
    "yield a sinusoidal radial velocity curve with semi-amplitude \n",
    "$$\n",
    "K_C = 208.5\\pm0.7~{\\rm km~s}^{-1}.\n",
    "$$\n",
    "The companion star fills its Roche lobe and co-rotates with the\n",
    "binary orbit.\n",
    "Its spectral lines are thereby rotationally broadened by\n",
    "$$\n",
    "V_{\\rm rot}\\sin{i} = 38.8\\pm1.1~{\\rm km~s}^{-1}.\n",
    "$$\n",
    "The inclination $i$ (angle between the line of sight and the\n",
    "vector normal to the binary orbit plane) is not well determined, but\n",
    "the absence of eclipses\n",
    "and presence of 0.2~mag ellipsoidal variations\n",
    "from the companion star imply\n",
    "$$\n",
    "50^\\circ < i < 80^\\circ.\n",
    "$$\n",
    "\n",
    "Use a Monte-Carlo simulation to investigate posterior\n",
    "probability distributions for the masses $M_X$ of the black hole candidate\n",
    "(X-ray source), and $M_C$ of the companion star.\n",
    "Use the above observational constraints on $P$, $K_C$, $(V_{\\rm rot}\\sin{i})$,\n",
    "and $i$, and the following binary star formulae :\n",
    "$$\n",
    "\\left( \\frac{2\\pi }{P} \\right)^2 = \\frac{G\\,(M_X+M_C)}{a^3}\n",
    "\\hspace{2cm}\n",
    "(K_X+K_C) = \\frac{2\\pi\\, a\\, \\sin{i}}{P}\n",
    "$$ $$\n",
    "\\frac{K_X}{K_C} = \\frac{M_C}{M_X} = q\n",
    "\\hspace{2cm}\n",
    "(V_{\\rm rot}\\sin{i}) = 0.462\\, K_C\\, q^{1/3} \\left( 1 + q  \\right)^{2/3}\n",
    "$$\n",
    "Here $a$ is the separation between the two stars, and $q=M_C/M_X$ is the mass ratio.\n",
    "\n",
    "(a) Use the above formulae to solve for the masses \n",
    "$M_X$ and $M_C$ in terms of thhree observed quantities $P$, $K_C$,\n",
    "$(V_{\\rm rot}\\sin{i})$, and the inclination $i$.\n",
    "To do this, first derive the mass function\n",
    "$$\n",
    "F_X \\equiv\n",
    "\\frac{M_X\\, (\\sin{i})^3}{(1+q)^2} = \\frac{K^3_C\\, P}{2 \\pi\\, G}.\n",
    "$$\n",
    "Why is $F_X$ a lower limit on $M_X$?\n",
    "Next note that $K_C$ and $(V_{\\rm rot}\\sin{i})$ together determine $q$,\n",
    "and use this to eliminate $q$ from the mass function, so that you can\n",
    "calculate $M_X$ and $M_C$ from the three observed quantities \n",
    "$P$, $K_C$, and $(V_{\\rm rot}\\,\\sin{i})$, plus $\\sin{i}$.  [15] \n",
    "\n",
    "(b) Use your RANG Gaussian random number subroutine\n",
    "to generate mock datasets that sample the observed distributions\n",
    "of $P$, $K_C$ and $(V_{\\rm rot}\\sin{i})$.\n",
    "Use a distribution uniform in $\\cos{i}$ to sample the unknown orbit \n",
    "orientation\n",
    "at random between the observational upper and lower limits on $i$.\n",
    "For each mock dataset, use the expressions you derived in (a) to \n",
    "calculate the mass function, and the corresponding values of $M_X$ and $M_C$.\n",
    "Express masses in units of the Sun's mass $M_\\odot$.\n",
    "Do this for a large number of mock datasets (trials), and\n",
    "make histogram plots (e.g. using PGHIST) of the resulting posterior mass\n",
    "distributions.\n",
    "Average over the trials to estimate\n",
    "mean values and standard deviations for\n",
    "$M_X$ and $M_C$.\n",
    "Evaluate also the 1-parameter 1-$\\sigma$ confidence intervals,\n",
    "noting that these are asymmetric because the posterior distributions\n",
    "are skewed, and compare these with the standard deviations.\n",
    "Evaluate the probability that $M_X > 3\\,M_\\odot$, and use the result to \n",
    "answer the question \"Is there a black hole in this system\"?  [15]\n",
    "\n",
    "\n",
    "(c)\n",
    "Plot the joint probability distribution of $M_X$ and $M_C$.\n",
    "One way to do this is to use your Monte Carlo trials, and just\n",
    "\"plot the dots\" for each trial value of $M_C$ and $M_X$.\n",
    "Another way is to accumulate a large number of trial values into a\n",
    "grid spanning some appropriate range in $M_C$ vs $M_X$,\n",
    "and then plot the array as contours (e.g. using PGCONT) and/or a greyscale \n",
    "image (e.g. using PGGRAY).\n",
    "Select the appropriate contour levels, and outline on your plot\n",
    "the 2-parameter 1-$\\sigma$\n",
    "and 2-$\\sigma$ confidence regions.\n",
    "Plot also the 1-parameter confidence intervals found in (b).\n",
    "Are $M_X$ and $M_C$ independent?\n",
    "Evaluate the correlation coefficient between $M_X$ and $M_C$.  [15]\n",
    "\n"
   ]
  },
  {
   "cell_type": "code",
   "execution_count": null,
   "metadata": {},
   "outputs": [],
   "source": []
  }
 ],
 "metadata": {
  "anaconda-cloud": {},
  "kernelspec": {
   "display_name": "Python 3.8.3",
   "language": "python",
   "name": "python3"
  },
  "language_info": {
   "codemirror_mode": {
    "name": "ipython",
    "version": 3
   },
   "file_extension": ".py",
   "mimetype": "text/x-python",
   "name": "python",
   "nbconvert_exporter": "python",
   "pygments_lexer": "ipython3",
   "version": "3.8.3"
  },
  "vscode": {
   "interpreter": {
    "hash": "b5081f00891ffd85138c812c63826c6e47d57c93e8fb9c711cbdfe2686f1a8b2"
   }
  }
 },
 "nbformat": 4,
 "nbformat_minor": 1
}
